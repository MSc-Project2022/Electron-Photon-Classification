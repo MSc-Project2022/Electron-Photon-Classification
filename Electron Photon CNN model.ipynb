{
 "cells": [
  {
   "cell_type": "code",
   "execution_count": 1,
   "id": "69db2b4c-4a81-47c7-a877-5b35ba27e6a3",
   "metadata": {},
   "outputs": [
    {
     "name": "stdout",
     "output_type": "stream",
     "text": [
      "WARNING:tensorflow:From C:\\Users\\hp\\AppData\\Roaming\\Python\\Python311\\site-packages\\keras\\src\\losses.py:2976: The name tf.losses.sparse_softmax_cross_entropy is deprecated. Please use tf.compat.v1.losses.sparse_softmax_cross_entropy instead.\n",
      "\n"
     ]
    }
   ],
   "source": [
    "#Imports\n",
    "import h5py\n",
    "import numpy as np\n",
    "import pandas as pd\n",
    "import matplotlib.pyplot as plt\n",
    "import seaborn as sns\n",
    "import tensorflow as tf\n",
    "from tensorflow import *\n",
    "from tensorflow.keras.models import Sequential\n",
    "from tensorflow.keras import datasets, layers, models\n",
    "from sklearn import datasets, linear_model\n",
    "from sklearn.model_selection import train_test_split\n",
    "from tensorflow.keras.layers import Conv2D, MaxPooling2D, Dense, Flatten, Activation\n",
    "\n",
    "#roc curve and auc\n",
    "from sklearn.datasets import make_classification\n",
    "from sklearn.neighbors import KNeighborsClassifier\n",
    "from sklearn.ensemble import RandomForestClassifier\n",
    "from sklearn.linear_model import LogisticRegression\n",
    "from sklearn.model_selection import train_test_split\n",
    "from sklearn.metrics import roc_curve, roc_auc_score, auc\n",
    "from matplotlib import pyplot\n",
    "\n"
   ]
  },
  {
   "cell_type": "code",
   "execution_count": 2,
   "id": "5edd88aa-af4e-46e6-b35e-6c3b710fa1cd",
   "metadata": {},
   "outputs": [],
   "source": [
    "#Using GPU\n",
    "lr_init = 1.e-3\n",
    "batch_size = 64\n",
    "epochs = 20\n",
    "doGPU=False\n",
    "start = 0\n",
    "stop = 16000"
   ]
  },
  {
   "cell_type": "code",
   "execution_count": 3,
   "id": "22c76df2-afd7-4d96-9d3a-fa06f99e03e4",
   "metadata": {},
   "outputs": [],
   "source": [
    "#Defining a function to load data\n",
    "\n",
    "img_rows, img_cols, nb_channels = 32, 32, 2\n",
    "input_dir = \"C:/Users/hp/Downloads\"\n",
    "decays = ['SinglePhotonPt50_IMGCROPS_n249k_RHv1', \"SingleElectronPt50_IMGCROPS_n249k_RHv1\"]\n",
    "def load_data(decays, start, stop):\n",
    "    global input_dir\n",
    "    dsets = [h5py.File('%s/%s.hdf5'%(input_dir,decay)) for decay in decays]\n",
    "    # print(dsets)\n",
    "    X = np.concatenate([dset['/X'][start:stop] for dset in dsets])\n",
    "    y = np.concatenate([dset['/y'][start:stop] for dset in dsets])\n",
    "    assert len(X)==len(y)\n",
    "    return X,y"
   ]
  },
  {
   "cell_type": "code",
   "execution_count": 4,
   "id": "abbfa242-ef26-4eb5-a705-bf2f3fd1673f",
   "metadata": {},
   "outputs": [],
   "source": [
    "#Loading data and splitting into training validation and testing sets\n",
    "\n",
    "X,y = load_data(decays, start, stop)\n",
    "X_train, X_test, y_train, y_test = train_test_split(X, y, test_size=0.2, random_state=24)\n",
    "X_train, X_val, y_train, y_val= train_test_split(X_train, y_train, test_size=0.2, random_state=2)\n"
   ]
  },
  {
   "cell_type": "code",
   "execution_count": 5,
   "id": "99280691-6007-462e-8921-ed4cb68f58f8",
   "metadata": {},
   "outputs": [
    {
     "name": "stdout",
     "output_type": "stream",
     "text": [
      "Total number of images in the dataset:  32000\n",
      "Number of Training images:  20480\n",
      "Number of Validation images:  5120\n",
      "Number of Testing images:  6400\n"
     ]
    }
   ],
   "source": [
    "#Number of training and testing samples:\n",
    "print(\"Total number of images in the dataset: \", len(X))\n",
    "print(\"Number of Training images: \", len(X_train))\n",
    "print(\"Number of Validation images: \", len(X_val))\n",
    "print(\"Number of Testing images: \", len(X_test))"
   ]
  },
  {
   "cell_type": "code",
   "execution_count": 6,
   "id": "131f1df5-0d60-49ec-9bce-776a0bb765ad",
   "metadata": {},
   "outputs": [
    {
     "data": {
      "text/plain": [
       "<function matplotlib.pyplot.show(close=None, block=None)>"
      ]
     },
     "execution_count": 6,
     "metadata": {},
     "output_type": "execute_result"
    },
    {
     "data": {
      "image/png": "[encoded data removed]",
      "text/plain": [
       "<Figure size 640x480 with 2 Axes>"
      ]
     },
     "metadata": {},
     "output_type": "display_data"
    }
   ],
   "source": [
    "# A sample image from the dataset\n",
    "plt.figure(1)\n",
    "\n",
    "plt.subplot(221)\n",
    "plt.imshow(X_train[1,:,:,0])\n",
    "plt.title(\"Channel 0: Energy\")\n",
    "plt.grid(True)\n",
    "\n",
    "plt.subplot(222)\n",
    "plt.imshow(X_train[1,:,:,1])\n",
    "plt.title(\"Channel 1:Time\")\n",
    "plt.grid(True)\n",
    "\n",
    "plt.show"
   ]
  },
  {
   "cell_type": "code",
   "execution_count": 7,
   "id": "e8ab8d0a-251f-488c-ae08-67a16f7e98d7",
   "metadata": {},
   "outputs": [
    {
     "name": "stdout",
     "output_type": "stream",
     "text": [
      "WARNING:tensorflow:From C:\\Users\\hp\\AppData\\Roaming\\Python\\Python311\\site-packages\\keras\\src\\backend.py:873: The name tf.get_default_graph is deprecated. Please use tf.compat.v1.get_default_graph instead.\n",
      "\n",
      "WARNING:tensorflow:From C:\\Users\\hp\\AppData\\Roaming\\Python\\Python311\\site-packages\\keras\\src\\layers\\pooling\\max_pooling2d.py:161: The name tf.nn.max_pool is deprecated. Please use tf.nn.max_pool2d instead.\n",
      "\n"
     ]
    }
   ],
   "source": [
    "#Defining the model\n",
    "model= models.Sequential()\n",
    "model.add(layers.Conv2D(filters=32, kernel_size=(3,3), activation='relu', input_shape=(32,32,2)))\n",
    "model.add(layers.Conv2D(filters=64, kernel_size=(3,3), activation='relu'))\n",
    "model.add(layers.MaxPooling2D((2,2)))\n",
    "model.add(layers.Conv2D(filters=64, kernel_size=(3,3), activation='relu'))\n",
    "model.add(layers.MaxPooling2D((2,2)))\n",
    "model.add(layers.Conv2D(filters=64, kernel_size=(3,3), activation='relu'))\n",
    "model.add(layers.Conv2D(filters=64, kernel_size=(3,3), activation='relu'))\n",
    "model.add(layers.MaxPooling2D((2,2)))\n",
    "model.add(layers.Flatten())\n",
    "model.add(layers.Dense(units=64, activation='relu'))\n",
    "model.add(layers.Dense(units=1, activation='sigmoid'))"
   ]
  },
  {
   "cell_type": "code",
   "execution_count": 14,
   "id": "40124f62-eb50-4da8-a506-2d8669271365",
   "metadata": {},
   "outputs": [],
   "source": [
    "model.compile(\n",
    "    loss=tf.keras.losses.binary_crossentropy,\n",
    "    optimizer=tf.keras.optimizers.Adam(learning_rate=1.e-3),\n",
    "    metrics=['accuracy', tf.keras.metrics.AUC(curve='ROC')]\n",
    ")"
   ]
  },
  {
   "cell_type": "code",
   "execution_count": 15,
   "id": "692d0cb0-33ae-4fb4-9a05-937f25f2cb07",
   "metadata": {},
   "outputs": [
    {
     "name": "stdout",
     "output_type": "stream",
     "text": [
      "Epoch 1/10\n",
      "WARNING:tensorflow:From C:\\Users\\hp\\AppData\\Roaming\\Python\\Python311\\site-packages\\keras\\src\\utils\\tf_utils.py:492: The name tf.ragged.RaggedTensorValue is deprecated. Please use tf.compat.v1.ragged.RaggedTensorValue instead.\n",
      "\n",
      "WARNING:tensorflow:From C:\\Users\\hp\\AppData\\Roaming\\Python\\Python311\\site-packages\\keras\\src\\engine\\base_layer_utils.py:384: The name tf.executing_eagerly_outside_functions is deprecated. Please use tf.compat.v1.executing_eagerly_outside_functions instead.\n",
      "\n",
      "640/640 - 27s - loss: 0.6781 - accuracy: 0.5664 - auc_1: 0.5938 - val_loss: 0.6654 - val_accuracy: 0.5990 - val_auc_1: 0.6296 - 27s/epoch - 42ms/step\n",
      "Epoch 2/10\n",
      "640/640 - 22s - loss: 0.6540 - accuracy: 0.6125 - auc_1: 0.6493 - val_loss: 0.6597 - val_accuracy: 0.6018 - val_auc_1: 0.6398 - 22s/epoch - 35ms/step\n",
      "Epoch 3/10\n",
      "640/640 - 21s - loss: 0.6452 - accuracy: 0.6288 - auc_1: 0.6665 - val_loss: 0.6605 - val_accuracy: 0.6076 - val_auc_1: 0.6467 - 21s/epoch - 33ms/step\n",
      "Epoch 4/10\n",
      "640/640 - 22s - loss: 0.6361 - accuracy: 0.6425 - auc_1: 0.6850 - val_loss: 0.6423 - val_accuracy: 0.6301 - val_auc_1: 0.6703 - 22s/epoch - 34ms/step\n",
      "Epoch 5/10\n",
      "640/640 - 22s - loss: 0.6199 - accuracy: 0.6662 - auc_1: 0.7095 - val_loss: 0.6354 - val_accuracy: 0.6469 - val_auc_1: 0.6887 - 22s/epoch - 34ms/step\n",
      "Epoch 6/10\n",
      "640/640 - 23s - loss: 0.6093 - accuracy: 0.6737 - auc_1: 0.7245 - val_loss: 0.6308 - val_accuracy: 0.6465 - val_auc_1: 0.6925 - 23s/epoch - 36ms/step\n",
      "Epoch 7/10\n",
      "640/640 - 21s - loss: 0.5979 - accuracy: 0.6858 - auc_1: 0.7403 - val_loss: 0.6290 - val_accuracy: 0.6568 - val_auc_1: 0.7040 - 21s/epoch - 33ms/step\n",
      "Epoch 8/10\n",
      "640/640 - 21s - loss: 0.5871 - accuracy: 0.6977 - auc_1: 0.7538 - val_loss: 0.6362 - val_accuracy: 0.6477 - val_auc_1: 0.6929 - 21s/epoch - 33ms/step\n",
      "Epoch 9/10\n",
      "640/640 - 21s - loss: 0.5780 - accuracy: 0.7055 - auc_1: 0.7646 - val_loss: 0.6508 - val_accuracy: 0.6496 - val_auc_1: 0.7048 - 21s/epoch - 33ms/step\n",
      "Epoch 10/10\n",
      "640/640 - 21s - loss: 0.5620 - accuracy: 0.7177 - auc_1: 0.7822 - val_loss: 0.6611 - val_accuracy: 0.6477 - val_auc_1: 0.7061 - 21s/epoch - 33ms/step\n"
     ]
    }
   ],
   "source": [
    "#Fitting the model\n",
    "history= model.fit(X_train, y_train, epochs=10, validation_data=(X_val, y_val),verbose=2)"
   ]
  },
  {
   "cell_type": "code",
   "execution_count": 16,
   "id": "3f0b153d-27bf-4202-8903-cedf65aa80bc",
   "metadata": {},
   "outputs": [],
   "source": [
    "# Saving and loading the model for future use \n",
    "model.save_weights('model2.h5')\n",
    "# model.load_weights('model2.h5')"
   ]
  },
  {
   "cell_type": "code",
   "execution_count": 17,
   "id": "e180dd9e-b02f-47c1-8556-749998045406",
   "metadata": {},
   "outputs": [
    {
     "name": "stdout",
     "output_type": "stream",
     "text": [
      "200/200 [==============================] - 3s 16ms/step\n"
     ]
    },
    {
     "data": {
      "image/png": "[encoded data removed]",
      "text/plain": [
       "<Figure size 640x480 with 1 Axes>"
      ]
     },
     "metadata": {},
     "output_type": "display_data"
    }
   ],
   "source": [
    "#Plotting the ROC Curve\n",
    "\n",
    "from sklearn.metrics import roc_curve\n",
    "y_pred = model.predict(X_test).ravel()\n",
    "fpr, tpr, thresholds = roc_curve(y_test, y_pred)\n",
    "from sklearn.metrics import auc\n",
    "auc = auc(fpr, tpr)\n",
    "\n",
    "plt.figure(1)\n",
    "plt.plot([0, 1], [0, 1], 'k--')\n",
    "plt.plot(fpr, tpr, label='ROC (AUC Score= {:.3f})'.format(auc))\n",
    "\n",
    "plt.xlabel('False positive rate')\n",
    "plt.ylabel('True positive rate')\n",
    "plt.title('ROC curve')\n",
    "plt.legend(loc='best')\n",
    "plt.show()"
   ]
  },
  {
   "cell_type": "code",
   "execution_count": 18,
   "id": "64709c7f-1b3b-458d-b50c-e64362f8c5ad",
   "metadata": {},
   "outputs": [
    {
     "name": "stdout",
     "output_type": "stream",
     "text": [
      "Test accuracy: 0.6434375\n"
     ]
    }
   ],
   "source": [
    "acc1= np.equal(y_test,np.round(y_pred)).mean()\n",
    "print(\"Test accuracy:\", acc1)"
   ]
  },
  {
   "cell_type": "code",
   "execution_count": 19,
   "id": "aee85109-111a-497a-b794-323b60c733ab",
   "metadata": {},
   "outputs": [
    {
     "name": "stdout",
     "output_type": "stream",
     "text": [
      "640/640 [==============================] - 9s 14ms/step\n",
      "Training accuracy: 0.7228515625\n"
     ]
    }
   ],
   "source": [
    "y_train_pred= model.predict(X_train).ravel()\n",
    "acc= np.equal(y_train,np.round(y_train_pred)).mean()\n",
    "print(\"Training accuracy:\", acc)"
   ]
  },
  {
   "cell_type": "code",
   "execution_count": null,
   "id": "9a6d5caf-2ebb-474a-a63c-e6d5a8321739",
   "metadata": {},
   "outputs": [],
   "source": []
  }
 ],
 "metadata": {
  "kernelspec": {
   "display_name": "Python 3 (ipykernel)",
   "language": "python",
   "name": "python3"
  },
  "language_info": {
   "codemirror_mode": {
    "name": "ipython",
    "version": 3
   },
   "file_extension": ".py",
   "mimetype": "text/x-python",
   "name": "python",
   "nbconvert_exporter": "python",
   "pygments_lexer": "ipython3",
   "version": "3.11.5"
  }
 },
 "nbformat": 4,
 "nbformat_minor": 5
}
